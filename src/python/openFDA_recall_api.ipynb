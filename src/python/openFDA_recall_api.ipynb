{
 "cells": [
  {
   "cell_type": "markdown",
   "metadata": {},
   "source": [
    "# Using the OpenFDA API to get recall data"
   ]
  },
  {
   "cell_type": "markdown",
   "metadata": {},
   "source": [
    "As a food safety and compliance professional, I have always had an interested in pulling straight from FDA's openFDA api all of the products subject to recall. When I first started playing with their API, I had a few questions:\n",
    "- How can I pull recall data into a table?\n",
    "- How can I get around the limit on each request to get everything I need for a given data range?\n",
    "\n",
    "In this notebook, we'll explore how to answer these questions and more. If you have any questions, please reach out!"
   ]
  },
  {
   "cell_type": "markdown",
   "metadata": {},
   "source": [
    "# Set up\n",
    "First thing is to import the packages we need (only 2!)."
   ]
  },
  {
   "cell_type": "code",
   "execution_count": 1,
   "metadata": {},
   "outputs": [],
   "source": [
    "# Import packages\n",
    "import requests\n",
    "import pandas as pd"
   ]
  },
  {
   "cell_type": "markdown",
   "metadata": {},
   "source": [
    "# Create function for making API call\n",
    "In the function \"fetch_data\", we will make a call to FDA's API url: https://api.fda.gov/food/enforcement.json,\n",
    "add some filters (\"params\") and then normalize the loaded json into a dataframe."
   ]
  },
  {
   "cell_type": "code",
   "execution_count": 2,
   "metadata": {},
   "outputs": [],
   "source": [
    "def fetch_data(base_url, params):\n",
    "    \"\"\"\n",
    "    Fetch data from the API using the base URL and parameters.\n",
    "    Params:\n",
    "        base_url: str, base URL of the API\n",
    "        params: dict, parameters to be used for the API request\n",
    "    \"\"\"\n",
    "    all_data = []\n",
    "    while True:\n",
    "        response = requests.get(base_url, params=params)\n",
    "        if response.status_code == 200:\n",
    "            data = response.json()\n",
    "            if 'results' in data:\n",
    "                all_data.extend(data['results'])\n",
    "                params['skip'] += params['limit'] \n",
    "            else:\n",
    "                print(\"No more results found.\")\n",
    "                break\n",
    "        elif response.status_code == 404:\n",
    "            if len(all_data)>0:\n",
    "                print(f\"{len(all_data)} results found - No more results available.\")\n",
    "                break\n",
    "            else:\n",
    "                print(\"No matches found. Check your query parameters.\")\n",
    "                break\n",
    "        else:\n",
    "            print(\"Failed to retrieve data:\", response.status_code, response.text)\n",
    "            break\n",
    "    return all_data"
   ]
  },
  {
   "cell_type": "markdown",
   "metadata": {},
   "source": [
    "# Fetch the data with an API call\n",
    "Ok, below is the base url and the filters (\"params\") along with the date range. The params \"limit\" and \"skip\" are used to handle pagination."
   ]
  },
  {
   "cell_type": "code",
   "execution_count": 3,
   "metadata": {},
   "outputs": [
    {
     "name": "stdout",
     "output_type": "stream",
     "text": [
      "437 results found - No more results available.\n"
     ]
    }
   ],
   "source": [
    "# Instantiate search variables and parameters\n",
    "base_url = 'https://api.fda.gov/food/enforcement.json'\n",
    "start_date = '20240101'\n",
    "end_date = '20240531'\n",
    "query_params = {\n",
    "    'search': f'recall_initiation_date:[\"{start_date}\" TO \"{end_date}\"]',\n",
    "    'limit': 100,\n",
    "    'skip': 0 \n",
    "}\n",
    "\n",
    "# Fetch all data\n",
    "data = fetch_data(base_url, query_params)\n",
    "\n",
    "# Create DataFrame from the collected data\n",
    "df = pd.json_normalize(data)\n",
    "\n",
    "# Convert date columns\n",
    "date_columns = ['recall_initiation_date', 'center_classification_date', 'termination_date', 'report_date']\n",
    "for column in date_columns:\n",
    "    df[column] = pd.to_datetime(df[column], format='%Y%m%d', errors='coerce').dt.date"
   ]
  },
  {
   "cell_type": "markdown",
   "metadata": {},
   "source": [
    "# Check results\n",
    "Let's take a look at the data to confirm the range and columns of the new dataframe."
   ]
  },
  {
   "cell_type": "code",
   "execution_count": 7,
   "metadata": {},
   "outputs": [
    {
     "name": "stdout",
     "output_type": "stream",
     "text": [
      "Min date: 2024-01-02\n",
      "Max date: 2024-05-17\n",
      "Index(['status', 'city', 'state', 'country', 'classification', 'product_type',\n",
      "       'event_id', 'recalling_firm', 'address_1', 'address_2', 'postal_code',\n",
      "       'voluntary_mandated', 'initial_firm_notification',\n",
      "       'distribution_pattern', 'recall_number', 'product_description',\n",
      "       'product_quantity', 'reason_for_recall', 'recall_initiation_date',\n",
      "       'center_classification_date', 'report_date', 'code_info',\n",
      "       'more_code_info', 'termination_date'],\n",
      "      dtype='object')\n"
     ]
    },
    {
     "data": {
      "text/html": [
       "<div>\n",
       "<style scoped>\n",
       "    .dataframe tbody tr th:only-of-type {\n",
       "        vertical-align: middle;\n",
       "    }\n",
       "\n",
       "    .dataframe tbody tr th {\n",
       "        vertical-align: top;\n",
       "    }\n",
       "\n",
       "    .dataframe thead th {\n",
       "        text-align: right;\n",
       "    }\n",
       "</style>\n",
       "<table border=\"1\" class=\"dataframe\">\n",
       "  <thead>\n",
       "    <tr style=\"text-align: right;\">\n",
       "      <th></th>\n",
       "      <th>status</th>\n",
       "      <th>city</th>\n",
       "      <th>state</th>\n",
       "      <th>country</th>\n",
       "      <th>classification</th>\n",
       "      <th>product_type</th>\n",
       "      <th>event_id</th>\n",
       "      <th>recalling_firm</th>\n",
       "      <th>address_1</th>\n",
       "      <th>address_2</th>\n",
       "      <th>...</th>\n",
       "      <th>recall_number</th>\n",
       "      <th>product_description</th>\n",
       "      <th>product_quantity</th>\n",
       "      <th>reason_for_recall</th>\n",
       "      <th>recall_initiation_date</th>\n",
       "      <th>center_classification_date</th>\n",
       "      <th>report_date</th>\n",
       "      <th>code_info</th>\n",
       "      <th>more_code_info</th>\n",
       "      <th>termination_date</th>\n",
       "    </tr>\n",
       "  </thead>\n",
       "  <tbody>\n",
       "    <tr>\n",
       "      <th>0</th>\n",
       "      <td>Ongoing</td>\n",
       "      <td>San Luis</td>\n",
       "      <td>AZ</td>\n",
       "      <td>United States</td>\n",
       "      <td>Class I</td>\n",
       "      <td>Food</td>\n",
       "      <td>93920</td>\n",
       "      <td>HandNatural</td>\n",
       "      <td>874 S Main St</td>\n",
       "      <td></td>\n",
       "      <td>...</td>\n",
       "      <td>F-1170-2024</td>\n",
       "      <td>H&amp;NATURAL 2 PACK! BRAZIL SEED 60 PIECES, PURE ...</td>\n",
       "      <td></td>\n",
       "      <td>Product recalled due to the presence of yellow...</td>\n",
       "      <td>2024-02-09</td>\n",
       "      <td>2024-04-16</td>\n",
       "      <td>2024-04-24</td>\n",
       "      <td>No Lot code on label. Expiration date listed a...</td>\n",
       "      <td></td>\n",
       "      <td>NaT</td>\n",
       "    </tr>\n",
       "    <tr>\n",
       "      <th>1</th>\n",
       "      <td>Ongoing</td>\n",
       "      <td>New Century</td>\n",
       "      <td>KS</td>\n",
       "      <td>United States</td>\n",
       "      <td>Class I</td>\n",
       "      <td>Food</td>\n",
       "      <td>94565</td>\n",
       "      <td>Danisco USA Inc.</td>\n",
       "      <td>4 New Century Pkwy</td>\n",
       "      <td>N/A</td>\n",
       "      <td>...</td>\n",
       "      <td>F-1333-2024</td>\n",
       "      <td>Grindsted Sweetlife CINN. Roll BAS Stabilizer ...</td>\n",
       "      <td>7257.60 kg</td>\n",
       "      <td>Potential Salmonella Contamination</td>\n",
       "      <td>2024-05-03</td>\n",
       "      <td>2024-06-06</td>\n",
       "      <td>2024-06-12</td>\n",
       "      <td>Lot number: 1204607256; 1204607257; 1204607258...</td>\n",
       "      <td></td>\n",
       "      <td>NaT</td>\n",
       "    </tr>\n",
       "  </tbody>\n",
       "</table>\n",
       "<p>2 rows × 24 columns</p>\n",
       "</div>"
      ],
      "text/plain": [
       "    status         city state        country classification product_type  \\\n",
       "0  Ongoing     San Luis    AZ  United States        Class I         Food   \n",
       "1  Ongoing  New Century    KS  United States        Class I         Food   \n",
       "\n",
       "  event_id    recalling_firm           address_1 address_2  ... recall_number  \\\n",
       "0    93920       HandNatural       874 S Main St            ...   F-1170-2024   \n",
       "1    94565  Danisco USA Inc.  4 New Century Pkwy       N/A  ...   F-1333-2024   \n",
       "\n",
       "                                 product_description product_quantity  \\\n",
       "0  H&NATURAL 2 PACK! BRAZIL SEED 60 PIECES, PURE ...                    \n",
       "1  Grindsted Sweetlife CINN. Roll BAS Stabilizer ...       7257.60 kg   \n",
       "\n",
       "                                   reason_for_recall recall_initiation_date  \\\n",
       "0  Product recalled due to the presence of yellow...             2024-02-09   \n",
       "1                 Potential Salmonella Contamination             2024-05-03   \n",
       "\n",
       "  center_classification_date report_date  \\\n",
       "0                 2024-04-16  2024-04-24   \n",
       "1                 2024-06-06  2024-06-12   \n",
       "\n",
       "                                           code_info more_code_info  \\\n",
       "0  No Lot code on label. Expiration date listed a...                  \n",
       "1  Lot number: 1204607256; 1204607257; 1204607258...                  \n",
       "\n",
       "  termination_date  \n",
       "0              NaT  \n",
       "1              NaT  \n",
       "\n",
       "[2 rows x 24 columns]"
      ]
     },
     "execution_count": 7,
     "metadata": {},
     "output_type": "execute_result"
    }
   ],
   "source": [
    "# Inspect results\n",
    "print('Min date:', min_date := df.recall_initiation_date.min())\n",
    "print('Max date:', max_date := df.recall_initiation_date.max())\n",
    "print(df.columns)\n",
    "df.head(2)"
   ]
  },
  {
   "cell_type": "code",
   "execution_count": 6,
   "metadata": {},
   "outputs": [
    {
     "data": {
      "text/plain": [
       "['H&NATURAL 2 PACK! BRAZIL SEED 60 PIECES, PURE NATURAL SEMILLA DE BRASIL FOR 60 DAYS, 5 GRAMS PER BOX, 2 BLACK BOXES.',\n",
       " 'Grindsted Sweetlife CINN. Roll BAS Stabilizer & Emulsifier System, 22.68 kg/ 50 lb bag',\n",
       " 'GRANDE     1.5OZ FRESH BOCCONCINI MOZZ 1/3#         SUPC/ITEM # 19132P',\n",
       " 'Sysco Classic Riced Cauliflower packed in a 4lb plastic bag (6 units of 4 lb. per carton box).',\n",
       " 'Vanilla Ice Cream Cookie Sandwich. Sandwiches packaged in a gold or clear bags. 50 sandwiches per case and weighting 4oz each sandwich.',\n",
       " 'California Wine Wafer - Mocha Chocolate and Original Wine Wafer - Mocha Chocolate [Two sizes: retail package of 8 wafers (7 oz) and retail gift package of 2 wafers (2 oz)]',\n",
       " 'Charles Boggini Pink Lemonde; 1 or 5 U.S. Gallons',\n",
       " 'Fresh Local , Country Corner Dairy,  YELLOW COLBY CHEESE, INGREDIENTS: Pasteurized Milk, Salt , Rennet, Calcium Chloride,  Cheese Culture, Contains Milk. Product comes in various sizes, 6 oz. up to 42 lbs. and is in vacuum sealed plastic packaging.',\n",
       " 'SAPUTO STELLA ASGO HLF MLD 11LB  SUPC/ITEM # 19009',\n",
       " 'Dannon Plain Yogurt packaged in 32oz plastic carton with lid - 6 cartons per case']"
      ]
     },
     "execution_count": 6,
     "metadata": {},
     "output_type": "execute_result"
    }
   ],
   "source": [
    "# Check the names of products subject to recall, which are truncated in the above formatting\n",
    "df.product_description.to_list()[:10]"
   ]
  },
  {
   "cell_type": "markdown",
   "metadata": {},
   "source": [
    "# Save results to CSV file"
   ]
  },
  {
   "cell_type": "code",
   "execution_count": 9,
   "metadata": {},
   "outputs": [],
   "source": [
    "# Save csv to file\n",
    "df.to_csv(f'../data/fda-food-recall_{min_date}-to-{max_date}.csv', index=False)"
   ]
  }
 ],
 "metadata": {
  "kernelspec": {
   "display_name": "Python 3",
   "language": "python",
   "name": "python3"
  },
  "language_info": {
   "codemirror_mode": {
    "name": "ipython",
    "version": 3
   },
   "file_extension": ".py",
   "mimetype": "text/x-python",
   "name": "python",
   "nbconvert_exporter": "python",
   "pygments_lexer": "ipython3",
   "version": "3.10.14"
  }
 },
 "nbformat": 4,
 "nbformat_minor": 2
}
