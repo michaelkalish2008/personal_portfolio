{
 "cells": [
  {
   "cell_type": "code",
   "execution_count": 17,
   "metadata": {},
   "outputs": [],
   "source": []
  },
  {
   "cell_type": "code",
   "execution_count": 7,
   "metadata": {},
   "outputs": [],
   "source": []
  },
  {
   "cell_type": "code",
   "execution_count": 207,
   "metadata": {},
   "outputs": [],
   "source": [
    "# Import libraries/packages\n",
    "# https://anaconda.org/conda-forge/pdftotext\n",
    "# conda install -c conda-forge pdftotext\n",
    "import pdftotext\n",
    "import numpy as np\n",
    "import pandas as pd\n",
    "import re\n",
    "\n",
    "# Load your PDF\n",
    "path = '../../../desktop/'\n",
    "fname = 'agnostic_statistics.pdf'\n",
    "with open(path + fname, \"rb\") as f:\n",
    "    pdf = pdftotext.PDF(f)\n",
    "\n",
    "theorems = []\n",
    "definitions = []\n",
    "page_num = -16 # Correct for pdf pages\n",
    "pat_thm = '\\nTheorem\\s([0-9. ]+[a-zA-Z -]+)'\n",
    "pat_dfn = '\\nDefinition\\s([0-9. ]+[a-zA-Z -]+)'\n",
    "\n",
    "# Loop through pages of pdf\n",
    "for page in pdf:\n",
    "    # Get list of theorems names and append to list w/ page num\n",
    "    if len(re.findall(pat_thm,page))>0:\n",
    "        thm = re.findall(pat_thm,page)\n",
    "        thm_with_pg_num = [[''.join(t),page_num] for t in thm]\n",
    "        theorems.extend(thm_with_pg_num)\n",
    "    # Get list of definition names and append to list w/ page num\n",
    "    if len(re.findall(pat_dfn,page))>0:\n",
    "        dfn = re.findall(pat_dfn,page)\n",
    "        dfn_with_pg_num = [[''.join(d),page_num] for d in dfn]\n",
    "        definitions.extend(dfn_with_pg_num)\n",
    "    # Update page number for next loop\n",
    "    page_num += 1\n",
    "\n",
    "def convert_to_df(data,type):\n",
    "    \"\"\"Convert data to data frame and split # and Name\"\"\"\n",
    "    df_dfn = pd.DataFrame(data)\n",
    "    # Create new columns\n",
    "    col_name = f'{type} name'\n",
    "    df_dfn[['num',col_name]] = df_dfn[0].str.extract(r'([0-9.]+)\\s(.*)', expand=True)\n",
    "    df_dfn.rename(columns={1:'page_num'},inplace=True)\n",
    "    df_dfn = df_dfn[df_dfn[col_name]!='']\n",
    "    return df_dfn[['num',col_name,'page_num']].copy()\n",
    "\n",
    "# And we have the dataframes!\n",
    "dft = convert_to_df(theorems,type='Theorem')\n",
    "dfd = convert_to_df(definitions, type='Definition')\n",
    "\n",
    "dfd.to_csv('as_definitions.csv')\n",
    "dft.to_csv('as_theorems.csv')\n",
    "# Check out the results in your directory"
   ]
  },
  {
   "cell_type": "code",
   "execution_count": 208,
   "metadata": {},
   "outputs": [
    {
     "data": {
      "text/html": [
       "<div>\n",
       "<style scoped>\n",
       "    .dataframe tbody tr th:only-of-type {\n",
       "        vertical-align: middle;\n",
       "    }\n",
       "\n",
       "    .dataframe tbody tr th {\n",
       "        vertical-align: top;\n",
       "    }\n",
       "\n",
       "    .dataframe thead th {\n",
       "        text-align: right;\n",
       "    }\n",
       "</style>\n",
       "<table border=\"1\" class=\"dataframe\">\n",
       "  <thead>\n",
       "    <tr style=\"text-align: right;\">\n",
       "      <th></th>\n",
       "      <th>num</th>\n",
       "      <th>Definition name</th>\n",
       "      <th>page_num</th>\n",
       "    </tr>\n",
       "  </thead>\n",
       "  <tbody>\n",
       "    <tr>\n",
       "      <th>0</th>\n",
       "      <td>1.1.1.</td>\n",
       "      <td>Event Space</td>\n",
       "      <td>6</td>\n",
       "    </tr>\n",
       "    <tr>\n",
       "      <th>1</th>\n",
       "      <td>1.1.2.</td>\n",
       "      <td>Kolmogorov Axioms</td>\n",
       "      <td>7</td>\n",
       "    </tr>\n",
       "    <tr>\n",
       "      <th>2</th>\n",
       "      <td>1.1.5.</td>\n",
       "      <td>Joint Probability</td>\n",
       "      <td>9</td>\n",
       "    </tr>\n",
       "    <tr>\n",
       "      <th>3</th>\n",
       "      <td>1.1.8.</td>\n",
       "      <td>Conditional Probability</td>\n",
       "      <td>10</td>\n",
       "    </tr>\n",
       "    <tr>\n",
       "      <th>4</th>\n",
       "      <td>1.1.12.</td>\n",
       "      <td>Partition</td>\n",
       "      <td>12</td>\n",
       "    </tr>\n",
       "  </tbody>\n",
       "</table>\n",
       "</div>"
      ],
      "text/plain": [
       "       num          Definition name  page_num\n",
       "0   1.1.1.              Event Space         6\n",
       "1   1.1.2.        Kolmogorov Axioms         7\n",
       "2   1.1.5.        Joint Probability         9\n",
       "3   1.1.8.  Conditional Probability        10\n",
       "4  1.1.12.                Partition        12"
      ]
     },
     "execution_count": 208,
     "metadata": {},
     "output_type": "execute_result"
    }
   ],
   "source": [
    "dfd.head()"
   ]
  },
  {
   "cell_type": "code",
   "execution_count": null,
   "metadata": {},
   "outputs": [],
   "source": []
  }
 ],
 "metadata": {
  "kernelspec": {
   "display_name": "venv",
   "language": "python",
   "name": "python3"
  },
  "language_info": {
   "codemirror_mode": {
    "name": "ipython",
    "version": 3
   },
   "file_extension": ".py",
   "mimetype": "text/x-python",
   "name": "python",
   "nbconvert_exporter": "python",
   "pygments_lexer": "ipython3",
   "version": "3.11.0"
  },
  "orig_nbformat": 4,
  "vscode": {
   "interpreter": {
    "hash": "489051a5ed06bb9e25521207c648c00a93df797f3bf93ae21620eda5367ce399"
   }
  }
 },
 "nbformat": 4,
 "nbformat_minor": 2
}
