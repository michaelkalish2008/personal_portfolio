{
 "cells": [
  {
   "cell_type": "markdown",
   "metadata": {},
   "source": [
    "# Logistic Regression from Scratch\n",
    "This code is an adaptation of the code from a Medium article by [Koushik](https://medium.com/@koushikkushal95/logistic-regression-from-scratch-dfb8527a4226#id_token=eyJhbGciOiJSUzI1NiIsImtpZCI6ImFjM2UzZTU1ODExMWM3YzdhNzVjNWI2NTEzNGQyMmY2M2VlMDA2ZDAiLCJ0eXAiOiJKV1QifQ.eyJpc3MiOiJodHRwczovL2FjY291bnRzLmdvb2dsZS5jb20iLCJhenAiOiIyMTYyOTYwMzU4MzQtazFrNnFlMDYwczJ0cDJhMmphbTRsamRjbXMwMHN0dGcuYXBwcy5nb29nbGV1c2VyY29udGVudC5jb20iLCJhdWQiOiIyMTYyOTYwMzU4MzQtazFrNnFlMDYwczJ0cDJhMmphbTRsamRjbXMwMHN0dGcuYXBwcy5nb29nbGV1c2VyY29udGVudC5jb20iLCJzdWIiOiIxMTUzMzU3MDA2ODM3MjU3NDUwMjIiLCJlbWFpbCI6Im10a2FsaXNoQGdtYWlsLmNvbSIsImVtYWlsX3ZlcmlmaWVkIjp0cnVlLCJuYmYiOjE3MTQ5NTA0OTMsIm5hbWUiOiJNaWNoYWVsIEthbGlzaCIsInBpY3R1cmUiOiJodHRwczovL2xoMy5nb29nbGV1c2VyY29udGVudC5jb20vYS9BQ2c4b2NJQUxKa0dPZkwtVzJjb3R2ejJQSW1yMzNkc1BKeVo2ZlNaS0NUTUdad1JSNUtvS2RJPXM5Ni1jIiwiZ2l2ZW5fbmFtZSI6Ik1pY2hhZWwiLCJmYW1pbHlfbmFtZSI6IkthbGlzaCIsImlhdCI6MTcxNDk1MDc5MywiZXhwIjoxNzE0OTU0MzkzLCJqdGkiOiI4NGM0MzMwMzljODBhZTNjNjE2YmY3NGQ3OGIzNDY0Y2RkN2YzY2Y4In0.njudRFk-Sz_AgH1owe-noHRdWzkoKXcxM_eWIDegKDuePvjlMg-wzwjO07zVj_Kp_sD6XTLexuoxUY-5G00O5ec2XLK_kjVGokSFvOB9S4QINy5ApI-_kk7P-BABdTytmYsMzqDclUaV-6wBDr3BKE5W9NW9YEWGtddpy2HJi_d1I1ZCutvrlwDgeGzaQLgC-UUiSATzEZC76-CPXDg_sTi25MPiqjya2_GyVhb6mEt64Q2BNJynvkfHrmutWe4bQOy-Kndq7941nY8jWh6VNkKZ5ZVuU-5HzyG3HLMWc9oF6ATqN9ppildD-FPRtD892P2zFdmzklbf02OMtBCcGg)"
   ]
  },
  {
   "cell_type": "code",
   "execution_count": 1,
   "metadata": {},
   "outputs": [],
   "source": [
    "# Data handling\n",
    "import numpy as np\n",
    "import pandas as pd\n",
    "import matplotlib.pyplot as plt\n",
    "\n",
    "# Data and pre-processing\n",
    "from sklearn.model_selection import train_test_split\n",
    "from sklearn import datasets\n",
    "from sklearn.preprocessing import StandardScaler\n",
    "\n",
    "# Metrics\n",
    "from sklearn.metrics import classification_report\n",
    "from sklearn.metrics import roc_auc_score, precision_score, recall_score, f1_score, fbeta_score, confusion_matrix"
   ]
  },
  {
   "cell_type": "code",
   "execution_count": 27,
   "metadata": {},
   "outputs": [
    {
     "name": "stdout",
     "output_type": "stream",
     "text": [
      "[1.799e+01 1.038e+01 1.228e+02 1.001e+03 1.184e-01 2.776e-01 3.001e-01\n",
      " 1.471e-01 2.419e-01 7.871e-02 1.095e+00 9.053e-01 8.589e+00 1.534e+02\n",
      " 6.399e-03 4.904e-02 5.373e-02 1.587e-02 3.003e-02 6.193e-03 2.538e+01\n",
      " 1.733e+01 1.846e+02 2.019e+03 1.622e-01 6.656e-01 7.119e-01 2.654e-01\n",
      " 4.601e-01 1.189e-01] \n",
      " 0\n"
     ]
    }
   ],
   "source": [
    "# Load dataset\n",
    "dataset = datasets.load_breast_cancer()\n",
    "\n",
    "# Define data and target\n",
    "X, y = dataset.data, dataset.target \n",
    "\n",
    "print(X[0], '\\n', y[0])"
   ]
  },
  {
   "cell_type": "code",
   "execution_count": 47,
   "metadata": {},
   "outputs": [],
   "source": [
    "# Split the dataset\n",
    "X_train, X_val, y_train, y_val = train_test_split(X,y, test_size=0.2, random_state=42)\n",
    "\n",
    "# Scale features\n",
    "scaler = StandardScaler()\n",
    "X_train = scaler.fit_transform(X_train)\n",
    "X_val = scaler.transform(X_val)"
   ]
  },
  {
   "cell_type": "code",
   "execution_count": 59,
   "metadata": {},
   "outputs": [],
   "source": [
    "class LogisticRegression:\n",
    "\n",
    "    def __init__(self, learning_rate=0.001, n_iters=1000):\n",
    "        self.lr = learning_rate\n",
    "        self.epsilon = 1e-9\n",
    "        self.n_iters = n_iters\n",
    "        self.weights = None\n",
    "        self.bias = None\n",
    "        self.losses = []\n",
    "        self.losses_val = []\n",
    "    \n",
    "    def _sigmoid(self, z):\n",
    "        return 1 / (1 + np.exp(-z))\n",
    "    \n",
    "    def _compute_loss(self, y, y_hat):\n",
    "        return -np.mean(y * np.log(y_hat + self.epsilon) + (1-y) + np.log(1-y_hat + self.epsilon))\n",
    "    \n",
    "    def _feed_forward(self, X):\n",
    "        z = X @ self.weights + self.bias\n",
    "        return self._sigmoid(z)\n",
    "\n",
    "    \n",
    "    def fit(self, X, y, X_val=None, y_val=None):\n",
    "        n_samples, n_features = X.shape\n",
    "\n",
    "        # Initialize weights\n",
    "        self.weights = np.random.rand(n_features,1) * np.sqrt(2/n_features)\n",
    "        self.bias = 0\n",
    "\n",
    "        # Feed forward\n",
    "        for _ in range(self.n_iters):\n",
    "            y_hat = self._feed_forward(X)\n",
    "            loss = self._compute_loss(y, y_hat)\n",
    "            self.losses.append(loss)\n",
    "\n",
    "            if X_val is not None and y_val is not None:\n",
    "                y_hat_val = self._feed_forward(X_val)\n",
    "                loss_val = self._compute_loss(y_val, y_hat_val)\n",
    "                self.losses_val.append(loss_val)\n",
    "\n",
    "            # Compute gradients\n",
    "            dz = y_hat - y.reshape(-1,1)\n",
    "            dw = (1/n_samples) * X.T @ dz\n",
    "            db = (1/n_samples) * np.sum(dz)\n",
    "\n",
    "            # Backpropagation\n",
    "            self.weights -= self.lr * dw\n",
    "            self.bias -= self.lr * db\n",
    "    \n",
    "    def predict(self, X):\n",
    "        y_hat = self._feed_forward(X)\n",
    "        y_pred = [1 if logit in y_hat > 0.5 else 0 for logit in y_hat]\n",
    "        return y_pred, y_hat\n",
    "    \n",
    "    def plot_loss(self):\n",
    "        plt.plot(np.arange(self.n_iters), self.losses, label='Training Loss')\n",
    "        plt.plot(np.arange(self.n_iters), self.losses_val, label='Validation Loss')\n",
    "        plt.xlabel('Epochs')\n",
    "        plt.ylabel('Loss')\n",
    "        plt.legend()\n",
    "        plt.show()\n",
    "\n",
    "\n",
    "    def predict(self, X):\n",
    "        logits = self._feed_forward(X)\n",
    "        y_pred = [1 if logit > 0.5 else 0 for logit in logits.flatten()]\n",
    "        y_pred = np.array(y_pred)\n",
    "        y_prob = logits.flatten()\n",
    "        return y_pred, y_prob\n",
    "\n",
    "\n",
    "    def evaluate(self, y_true, y_pred, y_prob, beta=1.2, type=\"TRAINING\"):\n",
    "\n",
    "        # Calculate results\n",
    "        accuracy = np.sum(y_true == y_pred) / len(y_true)\n",
    "        cm  = confusion_matrix(np.asarray(y_true), np.asarray(y_pred))\n",
    "        auc = roc_auc_score(y_true, y_prob)\n",
    "        precision = precision_score(y_true, y_pred)\n",
    "        recall = recall_score(y_true, y_pred)\n",
    "        f1 = f1_score(y_true, y_pred)\n",
    "        f2 = fbeta_score(y_true, y_pred, beta=beta)\n",
    "\n",
    "        # Print results\n",
    "        print(f\"{type} PERFORMANCE:\")\n",
    "        print(f\"Accuracy: {accuracy:.2f},\\nPrecision: {precision:.2f}\\nRecall: {recall:.2f}\")\n",
    "        print(f\"F1 Score: {f1:.2f}\\nF2 Score (beta={beta}): {f2:.2f}\\nROC AUC: {auc:.2f}\")\n",
    "        print(\"Confusion Matrix\\n\",np.array(cm))\n",
    "        print(\"Classsification Report\\n\", classification_report(y_true, y_pred))\n",
    "    \n",
    "    def loss_curve(self):\n",
    "        plt.figure(figsize=(10, 5))\n",
    "        plt.plot(self.losses, label='Training Loss')\n",
    "        plt.plot(self.val_losses, label='Validation Loss')\n",
    "        plt.title('Loss Curve')\n",
    "        plt.xlabel('Epoch')\n",
    "        plt.ylabel('Loss')\n",
    "        plt.legend()\n",
    "        plt.show()\n",
    "\n",
    "# Create the logistic regression model instance\n",
    "model = LogisticRegression(learning_rate=0.001, n_iters=1000)\n",
    "\n",
    "# Train the model\n",
    "model.fit(X_train, y_train, X_val, y_val)"
   ]
  },
  {
   "cell_type": "markdown",
   "metadata": {},
   "source": [
    "# Evaluate performance"
   ]
  },
  {
   "cell_type": "code",
   "execution_count": 60,
   "metadata": {},
   "outputs": [
    {
     "name": "stdout",
     "output_type": "stream",
     "text": [
      "TRAIN PERFORMANCE:\n",
      "Accuracy: 0.92,\n",
      "Precision: 0.96\n",
      "Recall: 0.91\n",
      "F1 Score: 0.93\n",
      "F2 Score (beta=1.2): 0.93\n",
      "ROC AUC: 0.98\n",
      "Confusion Matrix\n",
      " [[158  11]\n",
      " [ 27 259]]\n",
      "Classsification Report\n",
      "               precision    recall  f1-score   support\n",
      "\n",
      "           0       0.85      0.93      0.89       169\n",
      "           1       0.96      0.91      0.93       286\n",
      "\n",
      "    accuracy                           0.92       455\n",
      "   macro avg       0.91      0.92      0.91       455\n",
      "weighted avg       0.92      0.92      0.92       455\n",
      "\n"
     ]
    }
   ],
   "source": [
    "def performance_results(X, y, beta, type):\n",
    "    y_pred, y_prob = model.predict(X)\n",
    "    model.evaluate(y, y_pred, y_prob, beta, type)\n",
    "    return y_pred, y_prob\n",
    "    \n",
    "y_pred_test, y_prob_test = performance_results(X_train, y_train, beta=1.2, type=\"TRAIN\")"
   ]
  },
  {
   "cell_type": "code",
   "execution_count": 61,
   "metadata": {},
   "outputs": [
    {
     "name": "stdout",
     "output_type": "stream",
     "text": [
      "TEST PERFORMANCE:\n",
      "Accuracy: 0.94,\n",
      "Precision: 0.98\n",
      "Recall: 0.92\n",
      "F1 Score: 0.95\n",
      "F2 Score (beta=1.2): 0.94\n",
      "ROC AUC: 1.00\n",
      "Confusion Matrix\n",
      " [[42  1]\n",
      " [ 6 65]]\n",
      "Classsification Report\n",
      "               precision    recall  f1-score   support\n",
      "\n",
      "           0       0.88      0.98      0.92        43\n",
      "           1       0.98      0.92      0.95        71\n",
      "\n",
      "    accuracy                           0.94       114\n",
      "   macro avg       0.93      0.95      0.94       114\n",
      "weighted avg       0.94      0.94      0.94       114\n",
      "\n"
     ]
    }
   ],
   "source": [
    "y_pred_test, y_prob_test = performance_results(X_val, y_val, beta=1.2, type=\"TEST\")"
   ]
  },
  {
   "cell_type": "code",
   "execution_count": 62,
   "metadata": {},
   "outputs": [
    {
     "data": {
      "image/png": "[encoded data removed]",
      "text/plain": [
       "<Figure size 640x480 with 1 Axes>"
      ]
     },
     "metadata": {},
     "output_type": "display_data"
    }
   ],
   "source": [
    "model.plot_loss()"
   ]
  },
  {
   "cell_type": "code",
   "execution_count": null,
   "metadata": {},
   "outputs": [],
   "source": []
  },
  {
   "cell_type": "code",
   "execution_count": null,
   "metadata": {},
   "outputs": [],
   "source": []
  }
 ],
 "metadata": {
  "kernelspec": {
   "display_name": "Python 3",
   "language": "python",
   "name": "python3"
  },
  "language_info": {
   "codemirror_mode": {
    "name": "ipython",
    "version": 3
   },
   "file_extension": ".py",
   "mimetype": "text/x-python",
   "name": "python",
   "nbconvert_exporter": "python",
   "pygments_lexer": "ipython3",
   "version": "3.10.14"
  }
 },
 "nbformat": 4,
 "nbformat_minor": 2
}
