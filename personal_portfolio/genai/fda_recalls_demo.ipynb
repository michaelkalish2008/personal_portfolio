{
 "cells": [
  {
   "cell_type": "markdown",
   "metadata": {},
   "source": [
    "# Food Recalls"
   ]
  },
  {
   "cell_type": "markdown",
   "metadata": {},
   "source": [
    "### Setup"
   ]
  },
  {
   "cell_type": "code",
   "execution_count": 1,
   "metadata": {},
   "outputs": [],
   "source": [
    "# data\n",
    "import pandas as pd\n",
    "import re\n",
    "\n",
    "# json\n",
    "import json\n",
    "\n",
    "# web content\n",
    "import requests\n",
    "from bs4 import BeautifulSoup\n",
    "\n",
    "# Openai and langchain\n",
    "from langchain.chat_models import init_chat_model\n",
    "from langchain_core.messages import HumanMessage, SystemMessage\n",
    "from dotenv import load_dotenv"
   ]
  },
  {
   "cell_type": "code",
   "execution_count": 2,
   "metadata": {},
   "outputs": [
    {
     "data": {
      "text/plain": [
       "True"
      ]
     },
     "execution_count": 2,
     "metadata": {},
     "output_type": "execute_result"
    }
   ],
   "source": [
    "# Load environment variables from .env file\n",
    "load_dotenv()"
   ]
  },
  {
   "cell_type": "markdown",
   "metadata": {},
   "source": [
    "### Read in data"
   ]
  },
  {
   "cell_type": "code",
   "execution_count": 3,
   "metadata": {},
   "outputs": [],
   "source": [
    "df = pd.read_xml('./data/recalls_2024.xml')"
   ]
  },
  {
   "cell_type": "code",
   "execution_count": 4,
   "metadata": {},
   "outputs": [
    {
     "data": {
      "text/html": [
       "<div>\n",
       "<style scoped>\n",
       "    .dataframe tbody tr th:only-of-type {\n",
       "        vertical-align: middle;\n",
       "    }\n",
       "\n",
       "    .dataframe tbody tr th {\n",
       "        vertical-align: top;\n",
       "    }\n",
       "\n",
       "    .dataframe thead th {\n",
       "        text-align: right;\n",
       "    }\n",
       "</style>\n",
       "<table border=\"1\" class=\"dataframe\">\n",
       "  <thead>\n",
       "    <tr style=\"text-align: right;\">\n",
       "      <th></th>\n",
       "      <th>Brand</th>\n",
       "      <th>Company</th>\n",
       "      <th>Date</th>\n",
       "      <th>ProductDescription</th>\n",
       "      <th>ProductType</th>\n",
       "      <th>Reason</th>\n",
       "      <th>Url</th>\n",
       "      <th>Terminated</th>\n",
       "    </tr>\n",
       "  </thead>\n",
       "  <tbody>\n",
       "    <tr>\n",
       "      <th>0</th>\n",
       "      <td>Great Value</td>\n",
       "      <td>John B Sanfilippo &amp; Son, Inc.</td>\n",
       "      <td>03/13/2024</td>\n",
       "      <td>Honey Roasted Cashews</td>\n",
       "      <td>Food &amp; Beverages</td>\n",
       "      <td>Undeclared milk and coconut allergens</td>\n",
       "      <td>https://www.fda.gov/safety/recalls-market-with...</td>\n",
       "      <td>NaN</td>\n",
       "    </tr>\n",
       "    <tr>\n",
       "      <th>1</th>\n",
       "      <td>Par Pharmaceutical</td>\n",
       "      <td>Endo International, Par Pharmaceutical</td>\n",
       "      <td>03/12/2024</td>\n",
       "      <td>Treprostinil 20mg/20mL Injection</td>\n",
       "      <td>Drugs</td>\n",
       "      <td>Potential Presence of Silicone Particulate Matter</td>\n",
       "      <td>https://www.fda.gov/safety/recalls-market-with...</td>\n",
       "      <td>NaN</td>\n",
       "    </tr>\n",
       "  </tbody>\n",
       "</table>\n",
       "</div>"
      ],
      "text/plain": [
       "                Brand                                 Company        Date  \\\n",
       "0         Great Value           John B Sanfilippo & Son, Inc.  03/13/2024   \n",
       "1  Par Pharmaceutical  Endo International, Par Pharmaceutical  03/12/2024   \n",
       "\n",
       "                 ProductDescription       ProductType  \\\n",
       "0             Honey Roasted Cashews  Food & Beverages   \n",
       "1  Treprostinil 20mg/20mL Injection             Drugs   \n",
       "\n",
       "                                              Reason  \\\n",
       "0              Undeclared milk and coconut allergens   \n",
       "1  Potential Presence of Silicone Particulate Matter   \n",
       "\n",
       "                                                 Url  Terminated  \n",
       "0  https://www.fda.gov/safety/recalls-market-with...         NaN  \n",
       "1  https://www.fda.gov/safety/recalls-market-with...         NaN  "
      ]
     },
     "execution_count": 4,
     "metadata": {},
     "output_type": "execute_result"
    }
   ],
   "source": [
    "df.head(2)"
   ]
  },
  {
   "cell_type": "markdown",
   "metadata": {},
   "source": [
    "### "
   ]
  },
  {
   "cell_type": "code",
   "execution_count": 26,
   "metadata": {},
   "outputs": [
    {
     "data": {
      "text/plain": [
       "'https://www.fda.gov/safety/recalls-market-withdrawals-safety-alerts/par-pharmaceutical-issues-voluntary-nationwide-recall-one-lot-treprostinil-injection-due-potential'"
      ]
     },
     "execution_count": 26,
     "metadata": {},
     "output_type": "execute_result"
    }
   ],
   "source": [
    "df.Url[1]"
   ]
  },
  {
   "cell_type": "markdown",
   "metadata": {},
   "source": [
    "### Extract and clean text"
   ]
  },
  {
   "cell_type": "code",
   "execution_count": null,
   "metadata": {},
   "outputs": [],
   "source": [
    "# Get data with request\n",
    "url = df.Url[0]\n",
    "\n",
    "# See results\n",
    "response = requests.get(url)\n",
    "print(response.text)"
   ]
  },
  {
   "cell_type": "code",
   "execution_count": 7,
   "metadata": {},
   "outputs": [],
   "source": [
    "# Use beautiful soup to clean and parse data\n",
    "soup = BeautifulSoup(response.text, 'html.parser')\n",
    "text = soup.get_text()"
   ]
  },
  {
   "cell_type": "code",
   "execution_count": 8,
   "metadata": {},
   "outputs": [
    {
     "name": "stdout",
     "output_type": "stream",
     "text": [
      "\"\\n\\n\\n\\n\\n\\n\\n\\n\\n\\n\\n\\n\\n\\n\\n\\n\\n\\n\\n\\n\\n\\n\\n\\n\\n\\n\\n\\n\\n\\n\\n\\n\\n\\n\\n\\n\\nJohn B. Sanfilippo & Son, Inc Issues Allergy Alert on Undeclared Coconut and Milk in Great Value Honey Roasted Cashews 8.25 Oz | FDA\\n\\n\\n\\n\\n\\n\\n\\n\\n\\nSkip to main content\\nSkip to FDA Search\\nSkip to in this section menu\\nSkip to footer links\\n\\n \\n\\n \\n\\n\\n\\n\\nAn official website of the United States government\\nHere’s how you know  \\n\\n\\n\\n\\n\\nThe .gov means it’s official.Federal government websites often end in .gov or .mil. Before sharing sensitive information, make sure you're on a federal government site.\\n\\n\\n\\n\\n\\nThe site is secure. The https:// ensures that you are connecting to the official website and that any information you provide is encrypted and transmitted securely.\\n\\n\\n\\n\\n\\n \\nOn Oct. 1, 2024, the FDA began implementing a reorganization impacting many parts of the agency. We are in the process of updating FDA.gov content to reflect these changes.\\n\\n\\n\\n\\nU.S. Food and Drug Administration\\n\\n\\n\\n\\n\\n\\xa0\\nSearch\\n\\n\\n\\xa0\\nMenu\\n\\n\\n\\n\\n\\n\\nSearch FDA\\n\\n\\nSubmit search\\n\\n\\n\\n\\n\\n \\n\\nFeatured\\n\\nReport a Product Problem\\nContact FDA\\nFDA Guidance Documents\\nRecalls, Market Withdrawals and Safety Alerts\\nPress Announcements\\nWarning Letters\\nAdvisory Committees\\nEn Español\\n\\n\\n\\n\\n\\nProducts\\n\\nFood\\nDrugs\\nMedical Devices\\nRadiation-Emitting Products\\nVaccines, Blood, and Biologics\\nAnimal and Veterinary\\nCosmetics\\nTobacco Products\\n\\n\\n\\nTopics\\n\\nAbout FDA\\nCombination Products\\nRegulatory Information\\nSafety\\nEmergency Preparedness\\nInternational Programs\\nNews and Events\\nTraining and Continuing Education\\nInspections and Compliance\\nScience and Research\\n\\n\\n\\nInformation For\\n\\nConsumers\\nPatients\\nIndustry\\nHealth Professionals\\nFederal, State and Local Officials\\n\\n\\n\\n\\n\\n\\n\\n\\n\\nIn this section:\\n\\n                Recalls, Market Withdrawals, & Safety Alerts\\n    \\n    \\n\\n\\n\\n\\n\\n                                        Recalls, Market Withdrawals, & Safety Alerts\\n                    \\n\\n\\n\\nRecall Resources \\n\\n\\n\\n\\n\\n\\n\\n\\nEnforcement Reports\\nIndustry Guidance For Recalls\\nMajor Product Recalls\\n\\n\\n\\n\\n\\n\\n\\n\\n\\n\\n\\n\\nHome\\n\\n\\nSafety\\n\\n\\nRecalls, Market Withdrawals, & Safety Alerts\\n\\n\\nJohn B. Sanfilippo & Son, Inc Issues Allergy Alert on Undeclared Coconut and Milk in Great Value Honey Roasted Cashews 8.25 Oz\\n\\n\\n\\n\\n\\n     Recalls, Market Withdrawals, & Safety Alerts\\n    \\n\\n\\n\\n\\n\\n\\n\\n\\nCOMPANY ANNOUNCEMENT\\nJohn B. Sanfilippo & Son, Inc Issues Allergy Alert on Undeclared Coconut and Milk in Great Value Honey Roasted Cashews 8.25 Oz\\nThis recall has been completed and FDA has terminated this recall.\\n\\nWhen a company announces a recall, market withdrawal, or safety alert, the FDA posts the company's announcement as a public service. FDA does not endorse either the product or the company.\\nRead Announcement View Product Photos\\n\\n\\n\\n\\nShare\\n\\n\\n\\n\\n\\n\\n        Post\\n      \\n\\n\\nLinkedin\\n\\n\\nEmail\\n\\n\\nPrint\\n\\n\\n\\n\\n\\n\\n\\n\\n\\nSummary\\n\\n\\nCompany Announcement Date:\\nMarch 12, 2024\\n\\nFDA Publish Date:\\nMarch 13, 2024\\n\\nProduct Type:\\nFood & Beverages                          \\n            \\n            \\n            \\n            \\n            \\n            \\n            \\n             \\n            \\n            \\n            \\n              \\n            \\n            \\n                          \\nReason for Announcement:\\n\\n\\nRecall Reason Description\\n Undeclared milk and coconut allergens\\n\\n\\nCompany Name:\\n John B Sanfilippo & Son, Inc.\\nBrand Name:\\n\\n\\nBrand Name(s)\\n\\n Great Value\\n\\n\\n\\nProduct Description:\\n\\n\\nProduct Description\\n\\nHoney Roasted Cashews\\n\\n\\n\\n\\n\\n\\nCompany Announcement\\nFOR IMMEDIATE RELEASE – ELGIN, IL - MARCH 12, 2024 - John B. Sanfilippo & Son, Inc (JBSS) announced today it is voluntarily recalling a limited amount of 8.25 oz Great Value Honey Roasted Cashews, because it may contain undeclared coconut and milk. People who have an allergy or severe sensitivity to coconut or milk run the risk of serious or life-threatening allergic reactions if they consume this product from the impacted best if used by date listed below.\\nPotential affected products include the following details:\\n\\nDescription: Great Value Honey Roasted Cashews\\nBest if used by Jul 08 2025 GH2 (located on the bottom of the plastic can)\\n8.25 oz plastic can with a blue wrap around label\\nUPC: 078742133348\\n\\nNo adverse reactions have been reported to date.\\nProduct was distributed in select Walmart stores within the following states:\\n(AL, AR, CA, CO, CT, FL, GA, HI, IL, IN, KS, KY, LA, MA, MO, MS, NC, NE, NJ, NM, NV, NY, OH, OK, PA, SC, TN, TX, VT, WV) and via Walmart.com.\\nThe recall was initiated after a consumer report of finding coconut cashews within a container labeled as honey roasted cashews. An investigation identified that a limited number of incorrect honey roasted cashew labels were applied to the plastic cans of coconut cashews during the manufacturing process.\\nIf this product is still in your possession, do not consume it. Please discard the product or return the product to a Walmart store for a full refund.\\nConsumers with questions may contact John B. Sanfilippo & Son, Inc. at 1-800-874-8734 Monday – Friday, 8:00am – 5:00pm CDT, or via email at info@jbssinc.com.\\n\\n\\nCompany Contact Information\\n\\n\\n\\nConsumers:\\nJohn B. Sanfilippo & Son, Inc.\\n 1-800-874-8734\\n info@jbssinc.com\\n\\n\\n\\n\\n\\n\\n\\n\\n\\n\\nProduct Photos\\n\\n\\n\\n\\n \\n\\n\\n\\n\\n\\n\\n\\n\\n\\n\\n\\n\\n\\n\\n\\n \\n\\n\\n\\n\\n\\n\\n\\n\\n\\n\\n\\n\\n\\n\\n\\n\\n\\n\\n\\n\\n\\n\\n\\n\\nContent current as of:\\n03/13/2024\\n\\n\\n\\n\\n\\nRegulated Product(s)\\n\\nFood & Beverages\\n\\n\\n\\n\\n\\nFollow FDA\\n\\n\\n\\n\\n\\n\\nFollow @US_FDA on X\\n\\n\\nFollow FDA on Facebook\\n\\n\\n\\n\\n\\nFollow @FDArecalls on X\\n\\n\\nRecent Recalled Product Photos on FDA's Flickr Photostream\\n\\n\\n\\n\\n \\n\\n\\n\\n\\n\\n\\n\\n More Recalls, Market \\n    Withdrawals, & \\n    Safety Alerts\\n\\n\\n\\n\\n                                        Recalls, Market Withdrawals, & Safety Alerts\\n                      \\n\\n\\n\\nRecall Resources \\n\\n\\n\\n\\n\\n\\n\\n\\nEnforcement Reports\\nIndustry Guidance For Recalls\\nMajor Product Recalls\\n\\n\\n\\n\\n\\n\\n\\n\\n\\n\\n\\n\\n\\n \\n\\n\\n\\n\\n\\n\\nFooter Links\\n\\n\\n\\nFDA Archive\\nAbout FDA\\nAccessibility\\n\\n\\n\\n\\nVisitor Information \\nWebsite Policies / Privacy\\nNo FEAR Act\\nVulnerability Disclosure Policy\\n\\n\\n\\n\\nFOIA\\nHHS.gov\\nUSA.gov\\n\\n\\n\\n\\n\\n\\nContact FDA\\n\\n\\nFollow FDA on Facebook\\n\\n\\n\\n\\n\\n\\nFollow FDA on X\\n\\n\\n\\nFollow FDA on Instagram\\n\\n\\n\\n\\n\\nFollow FDA on LinkedIn\\n\\n\\n\\n\\nView FDA videos on YouTube\\n\\n\\n\\n\\nSubscribe to FDA RSS feeds\\n\\n\\n\\n\\n\\nFDA Homepage\\n\\n\\n\\n \\nContact Number\\n      1-888-INFO-FDA (1-888-463-6332)\\n    \\n\\n\\n\\nBack to Top\\n\\n\\n\\n\\n\\n\"\n"
     ]
    }
   ],
   "source": [
    "print(repr(text))"
   ]
  },
  {
   "cell_type": "code",
   "execution_count": 25,
   "metadata": {},
   "outputs": [
    {
     "name": "stdout",
     "output_type": "stream",
     "text": [
      "'Summary Company Announcement Date: March 12, 2024 FDA Publish Date: March 13, 2024 Product Type: Food & Beverages Reason for Announcement: Recall Reason Description Undeclared milk and coconut allergens Company Name: John B Sanfilippo & Son, Inc. Brand Name: Brand Name(s) Great Value Product Description: Product Description Honey Roasted Cashews Company Announcement FOR IMMEDIATE RELEASE – ELGIN, IL - MARCH 12, 2024 - John B. Sanfilippo & Son, Inc (JBSS) announced today it is voluntarily recalling a limited amount of 8.25 oz Great Value Honey Roasted Cashews, because it may contain undeclared coconut and milk. People who have an allergy or severe sensitivity to coconut or milk run the risk of serious or life-threatening allergic reactions if they consume this product from the impacted best if used by date listed below. Potential affected products include the following details: Description: Great Value Honey Roasted Cashews Best if used by Jul 08 2025 GH2 (located on the bottom of the plastic can) 8.25 oz plastic can with a blue wrap around label UPC: 078742133348 No adverse reactions have been reported to date. Product was distributed in select Walmart stores within the following states: (AL, AR, CA, CO, CT, FL, GA, HI, IL, IN, KS, KY, LA, MA, MO, MS, NC, NE, NJ, NM, NV, NY, OH, OK, PA, SC, TN, TX, VT, WV) and via Walmart.com. The recall was initiated after a consumer report of finding coconut cashews within a container labeled as honey roasted cashews. An investigation identified that a limited number of incorrect honey roasted cashew labels were applied to the plastic cans of coconut cashews during the manufacturing process. If this product is still in your possession, do not consume it. Please discard the product or return the product to a Walmart store for a full refund. Consumers with questions may contact John B. Sanfilippo & Son, Inc. at 1-800-874-8734 Monday – Friday, 8:00am – 5:00pm CDT, or via email at info@jbssinc.com. '\n"
     ]
    }
   ],
   "source": [
    "# Drop newlines and extra spaces\n",
    "text = re.sub(r'\\n', ' ', text)\n",
    "text = re.sub(r'\\s+', ' ', text)\n",
    "\n",
    "# Drop text before 'summary'\n",
    "text = text[text.find('Summary'):text.find('Company Contact Information')]\n",
    "print(repr(text))"
   ]
  },
  {
   "cell_type": "markdown",
   "metadata": {},
   "source": [
    "### Structure data"
   ]
  },
  {
   "cell_type": "code",
   "execution_count": null,
   "metadata": {},
   "outputs": [],
   "source": [
    "# Initialize model (gpt 4o-mini from openai)\n",
    "model = init_chat_model(\"gpt-4o\", model_provider=\"openai\", temperature=0)\n",
    "\n",
    "# cols to use\n",
    "cols = ['company_announcement_date', 'fda_publish_date', 'product_type', 'reason_for_announcement', 'company_name', 'brand_name', 'product_description', 'recall_status', 'best_if_used_by', 'package_description', 'upc', 'distribution', 'consumer_contact_number', 'consumer_contact_email', 'no_adverse_reactions_reported', 'recall_initiation_reason', 'investigation_findings']\n",
    "\n",
    "# HumanMessage and  SystemMessage\n",
    "prompt = f\"\"\"\n",
    "\n",
    "### Instructions\n",
    "Summarize the recall information provided which was scraped from the recall notification webpage.\n",
    "Ignore text irrelevant to the recall. Return as JSON object with keys: {cols}.\n",
    "\n",
    "### Example\n",
    "```{results}```\n",
    "\n",
    "### Formatting\n",
    "- Do not nest any keys, it should be flat.\n",
    "- Do not output ```json at the beginning of the output or ``` at the end.\n",
    "- Use \" \" for keys and values.\n",
    "\"\"\"\n",
    "\n",
    "messages = [SystemMessage(prompt), HumanMessage(text)]\n",
    "\n",
    "# Generate response\n",
    "response = model.invoke(messages)"
   ]
  },
  {
   "cell_type": "code",
   "execution_count": 31,
   "metadata": {},
   "outputs": [
    {
     "data": {
      "text/plain": [
       "{'company_announcement_date': 'March 12, 2024',\n",
       " 'fda_publish_date': 'March 13, 2024',\n",
       " 'product_type': 'Food & Beverages',\n",
       " 'reason_for_announcement': 'Undeclared milk and coconut allergens',\n",
       " 'company_name': 'John B Sanfilippo & Son, Inc.',\n",
       " 'brand_name': 'Great Value',\n",
       " 'product_description': 'Honey Roasted Cashews',\n",
       " 'recall_status': '',\n",
       " 'best_if_used_by': 'Jul 08 2025 GH2',\n",
       " 'package_description': '8.25 oz plastic can with a blue wrap around label',\n",
       " 'upc': '078742133348',\n",
       " 'distribution': 'Select Walmart stores in AL, AR, CA, CO, CT, FL, GA, HI, IL, IN, KS, KY, LA, MA, MO, MS, NC, NE, NJ, NM, NV, NY, OH, OK, PA, SC, TN, TX, VT, WV and via Walmart.com',\n",
       " 'consumer_contact_number': '1-800-874-8734',\n",
       " 'consumer_contact_email': 'info@jbssinc.com',\n",
       " 'no_adverse_reactions_reported': 'No adverse reactions have been reported to date.',\n",
       " 'recall_initiation_reason': 'A consumer report of finding coconut cashews within a container labeled as honey roasted cashews.',\n",
       " 'investigation_findings': 'A limited number of incorrect honey roasted cashew labels were applied to the plastic cans of coconut cashews during the manufacturing process.'}"
      ]
     },
     "execution_count": 31,
     "metadata": {},
     "output_type": "execute_result"
    }
   ],
   "source": [
    "results = json.loads(response.content)\n",
    "results"
   ]
  },
  {
   "cell_type": "code",
   "execution_count": 20,
   "metadata": {},
   "outputs": [
    {
     "name": "stdout",
     "output_type": "stream",
     "text": [
      "['company_announcement_date', 'fda_publish_date', 'product_type', 'reason_for_announcement', 'company_name', 'brand_name', 'product_description', 'recall_status', 'best_if_used_by', 'package_description', 'upc', 'distribution', 'consumer_contact_number', 'consumer_contact_email', 'no_adverse_reactions_reported', 'recall_initiation_reason', 'investigation_findings']\n"
     ]
    }
   ],
   "source": [
    "# Get keys from json\n",
    "cols = list(results.keys())\n",
    "print(cols)"
   ]
  },
  {
   "cell_type": "code",
   "execution_count": 32,
   "metadata": {},
   "outputs": [],
   "source": [
    "# Loop through all urls and concatenate results\n",
    "fails = []\n",
    "results = []\n",
    "for url in df.Url:\n",
    "    response = requests.get(url)\n",
    "    soup = BeautifulSoup(response.text, 'html.parser')\n",
    "    text = soup.get_text()\n",
    "    text = re.sub(r'\\n', ' ', text)\n",
    "    text = re.sub(r'\\s+', ' ', text)\n",
    "    text = text[text.find('Summary'):text.find('Company Contact Information')]\n",
    "    messages = [SystemMessage(prompt), HumanMessage(text)]\n",
    "    response = model.invoke(messages)\n",
    "    try:\n",
    "        result = json.loads(response.content)\n",
    "        results.append(result)\n",
    "    except:\n",
    "        fails.append(url)\n",
    "        continue"
   ]
  },
  {
   "cell_type": "code",
   "execution_count": 33,
   "metadata": {},
   "outputs": [
    {
     "name": "stdout",
     "output_type": "stream",
     "text": [
      "Fails: 7\n",
      "Results: 75\n"
     ]
    }
   ],
   "source": [
    "print('Fails:', len(fails))\n",
    "print('Results:', len(results))"
   ]
  },
  {
   "cell_type": "code",
   "execution_count": 35,
   "metadata": {},
   "outputs": [
    {
     "data": {
      "text/plain": [
       "{'company_announcement_date': 'March 12, 2024',\n",
       " 'fda_publish_date': 'March 13, 2024',\n",
       " 'product_type': 'Food & Beverages',\n",
       " 'reason_for_announcement': 'Undeclared milk and coconut allergens',\n",
       " 'company_name': 'John B Sanfilippo & Son, Inc.',\n",
       " 'brand_name': 'Great Value',\n",
       " 'product_description': 'Honey Roasted Cashews',\n",
       " 'recall_status': '',\n",
       " 'best_if_used_by': 'Jul 08 2025 GH2',\n",
       " 'package_description': '8.25 oz plastic can with a blue wrap around label',\n",
       " 'upc': '078742133348',\n",
       " 'distribution': 'Select Walmart stores in AL, AR, CA, CO, CT, FL, GA, HI, IL, IN, KS, KY, LA, MA, MO, MS, NC, NE, NJ, NM, NV, NY, OH, OK, PA, SC, TN, TX, VT, WV and via Walmart.com',\n",
       " 'consumer_contact_number': '1-800-874-8734',\n",
       " 'consumer_contact_email': 'info@jbssinc.com',\n",
       " 'no_adverse_reactions_reported': 'No adverse reactions have been reported to date.',\n",
       " 'recall_initiation_reason': 'A consumer report of finding coconut cashews within a container labeled as honey roasted cashews.',\n",
       " 'investigation_findings': 'A limited number of incorrect honey roasted cashew labels were applied to the plastic cans of coconut cashews during the manufacturing process.'}"
      ]
     },
     "execution_count": 35,
     "metadata": {},
     "output_type": "execute_result"
    }
   ],
   "source": [
    "results[0]"
   ]
  },
  {
   "cell_type": "code",
   "execution_count": 36,
   "metadata": {},
   "outputs": [
    {
     "data": {
      "text/html": [
       "<div>\n",
       "<style scoped>\n",
       "    .dataframe tbody tr th:only-of-type {\n",
       "        vertical-align: middle;\n",
       "    }\n",
       "\n",
       "    .dataframe tbody tr th {\n",
       "        vertical-align: top;\n",
       "    }\n",
       "\n",
       "    .dataframe thead th {\n",
       "        text-align: right;\n",
       "    }\n",
       "</style>\n",
       "<table border=\"1\" class=\"dataframe\">\n",
       "  <thead>\n",
       "    <tr style=\"text-align: right;\">\n",
       "      <th></th>\n",
       "      <th>company_announcement_date</th>\n",
       "      <th>fda_publish_date</th>\n",
       "      <th>product_type</th>\n",
       "      <th>reason_for_announcement</th>\n",
       "      <th>company_name</th>\n",
       "      <th>brand_name</th>\n",
       "      <th>product_description</th>\n",
       "      <th>recall_status</th>\n",
       "      <th>best_if_used_by</th>\n",
       "      <th>package_description</th>\n",
       "      <th>upc</th>\n",
       "      <th>distribution</th>\n",
       "      <th>consumer_contact_number</th>\n",
       "      <th>consumer_contact_email</th>\n",
       "      <th>no_adverse_reactions_reported</th>\n",
       "      <th>recall_initiation_reason</th>\n",
       "      <th>investigation_findings</th>\n",
       "    </tr>\n",
       "  </thead>\n",
       "  <tbody>\n",
       "    <tr>\n",
       "      <th>0</th>\n",
       "      <td>March 12, 2024</td>\n",
       "      <td>March 13, 2024</td>\n",
       "      <td>Food &amp; Beverages</td>\n",
       "      <td>Undeclared milk and coconut allergens</td>\n",
       "      <td>John B Sanfilippo &amp; Son, Inc.</td>\n",
       "      <td>Great Value</td>\n",
       "      <td>Honey Roasted Cashews</td>\n",
       "      <td></td>\n",
       "      <td>Jul 08 2025 GH2</td>\n",
       "      <td>8.25 oz plastic can with a blue wrap around label</td>\n",
       "      <td>078742133348</td>\n",
       "      <td>Select Walmart stores in AL, AR, CA, CO, CT, F...</td>\n",
       "      <td>1-800-874-8734</td>\n",
       "      <td>info@jbssinc.com</td>\n",
       "      <td>No adverse reactions have been reported to date.</td>\n",
       "      <td>A consumer report of finding coconut cashews w...</td>\n",
       "      <td>A limited number of incorrect honey roasted ca...</td>\n",
       "    </tr>\n",
       "    <tr>\n",
       "      <th>1</th>\n",
       "      <td>March 12, 2024</td>\n",
       "      <td>March 12, 2024</td>\n",
       "      <td>Drugs</td>\n",
       "      <td>Potential Presence of Silicone Particulate Matter</td>\n",
       "      <td>Endo International, Par Pharmaceutical</td>\n",
       "      <td>Par Pharmaceutical</td>\n",
       "      <td>Treprostinil 20mg/20mL Injection</td>\n",
       "      <td>This recall is being conducted with the knowle...</td>\n",
       "      <td>04/2024</td>\n",
       "      <td>20mL multidose vials as sterile solutions in w...</td>\n",
       "      <td>NDC #42023-206-01</td>\n",
       "      <td>Nationwide to wholesalers and hospitals from J...</td>\n",
       "      <td>1-800-828-9393</td>\n",
       "      <td>None</td>\n",
       "      <td>To date, Par has not received any reports of a...</td>\n",
       "      <td>The product is being recalled due to the poten...</td>\n",
       "      <td>None</td>\n",
       "    </tr>\n",
       "  </tbody>\n",
       "</table>\n",
       "</div>"
      ],
      "text/plain": [
       "  company_announcement_date fda_publish_date      product_type  \\\n",
       "0            March 12, 2024   March 13, 2024  Food & Beverages   \n",
       "1            March 12, 2024   March 12, 2024             Drugs   \n",
       "\n",
       "                             reason_for_announcement  \\\n",
       "0              Undeclared milk and coconut allergens   \n",
       "1  Potential Presence of Silicone Particulate Matter   \n",
       "\n",
       "                             company_name          brand_name  \\\n",
       "0           John B Sanfilippo & Son, Inc.         Great Value   \n",
       "1  Endo International, Par Pharmaceutical  Par Pharmaceutical   \n",
       "\n",
       "                product_description  \\\n",
       "0             Honey Roasted Cashews   \n",
       "1  Treprostinil 20mg/20mL Injection   \n",
       "\n",
       "                                       recall_status  best_if_used_by  \\\n",
       "0                                                     Jul 08 2025 GH2   \n",
       "1  This recall is being conducted with the knowle...          04/2024   \n",
       "\n",
       "                                 package_description                upc  \\\n",
       "0  8.25 oz plastic can with a blue wrap around label       078742133348   \n",
       "1  20mL multidose vials as sterile solutions in w...  NDC #42023-206-01   \n",
       "\n",
       "                                        distribution consumer_contact_number  \\\n",
       "0  Select Walmart stores in AL, AR, CA, CO, CT, F...          1-800-874-8734   \n",
       "1  Nationwide to wholesalers and hospitals from J...          1-800-828-9393   \n",
       "\n",
       "  consumer_contact_email                      no_adverse_reactions_reported  \\\n",
       "0       info@jbssinc.com   No adverse reactions have been reported to date.   \n",
       "1                   None  To date, Par has not received any reports of a...   \n",
       "\n",
       "                            recall_initiation_reason  \\\n",
       "0  A consumer report of finding coconut cashews w...   \n",
       "1  The product is being recalled due to the poten...   \n",
       "\n",
       "                              investigation_findings  \n",
       "0  A limited number of incorrect honey roasted ca...  \n",
       "1                                               None  "
      ]
     },
     "execution_count": 36,
     "metadata": {},
     "output_type": "execute_result"
    }
   ],
   "source": [
    "# Create dataframe from results\n",
    "df_results = pd.DataFrame(results)\n",
    "df_results.head(2)"
   ]
  },
  {
   "cell_type": "code",
   "execution_count": 37,
   "metadata": {},
   "outputs": [],
   "source": [
    "df_results.to_csv('./data/recalls_2024_full_results.csv', index=False)"
   ]
  },
  {
   "cell_type": "code",
   "execution_count": null,
   "metadata": {},
   "outputs": [],
   "source": []
  }
 ],
 "metadata": {
  "kernelspec": {
   "display_name": "Python 3",
   "language": "python",
   "name": "python3"
  },
  "language_info": {
   "codemirror_mode": {
    "name": "ipython",
    "version": 3
   },
   "file_extension": ".py",
   "mimetype": "text/x-python",
   "name": "python",
   "nbconvert_exporter": "python",
   "pygments_lexer": "ipython3",
   "version": "3.10.16"
  }
 },
 "nbformat": 4,
 "nbformat_minor": 2
}
